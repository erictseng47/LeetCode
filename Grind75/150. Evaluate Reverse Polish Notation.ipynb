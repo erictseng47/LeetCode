{
 "cells": [
  {
   "cell_type": "markdown",
   "id": "f9d6bbb1",
   "metadata": {},
   "source": [
    "# 150. Evaluate Reverse Polish Notation"
   ]
  },
  {
   "cell_type": "code",
   "execution_count": 23,
   "id": "56327b0b",
   "metadata": {},
   "outputs": [],
   "source": [
    "class Solution:\n",
    "    def evalRPN(self, tokens) -> int:\n",
    "        \n",
    "        stack = [] # Create a stack to record the data, due to the topic using the concept of the stack.\n",
    "        operators = [\"+\", \"-\", \"*\", \"/\"] # Create a list to record each operator.\n",
    "        \n",
    "        for token in tokens:\n",
    "            if token not in operators:\n",
    "                stack.append(int(token))\n",
    "            \n",
    "            else:\n",
    "                num2 = stack.pop()\n",
    "                num1 = stack.pop()\n",
    "                \n",
    "                if token == \"+\":\n",
    "                    stack.append(num1 + num2)\n",
    "                elif token == \"-\":\n",
    "                    stack.append(num1 - num2)\n",
    "                elif token == \"*\":\n",
    "                    stack.append(num1 * num2)\n",
    "                elif token == \"/\":\n",
    "                    stack.append(int(num1 / num2))  # Using int avoids the result being a float\n",
    "                    \n",
    "        return stack.pop()"
   ]
  },
  {
   "cell_type": "code",
   "execution_count": 24,
   "id": "426b2c28",
   "metadata": {},
   "outputs": [
    {
     "name": "stdout",
     "output_type": "stream",
     "text": [
      "The result of the expression is: 23\n"
     ]
    }
   ],
   "source": [
    "# Create an instance of the Solution class\n",
    "solution = Solution()\n",
    "\n",
    "# Example expression in Reverse Polish Notation: [\"3\", \"4\", \"5\", \"*\", \"+\"]\n",
    "# This expression represents the infix expression: 3 + (4 * 5)\n",
    "# The expected result is 23\n",
    "tokens = [\"3\", \"4\", \"5\", \"*\", \"+\"]\n",
    "result = solution.evalRPN(tokens)\n",
    "print(\"The result of the expression is:\", result)"
   ]
  }
 ],
 "metadata": {
  "kernelspec": {
   "display_name": "Python 3 (ipykernel)",
   "language": "python",
   "name": "python3"
  },
  "language_info": {
   "codemirror_mode": {
    "name": "ipython",
    "version": 3
   },
   "file_extension": ".py",
   "mimetype": "text/x-python",
   "name": "python",
   "nbconvert_exporter": "python",
   "pygments_lexer": "ipython3",
   "version": "3.11.2"
  }
 },
 "nbformat": 4,
 "nbformat_minor": 5
}
