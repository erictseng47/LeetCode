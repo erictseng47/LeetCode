{
 "cells": [
  {
   "cell_type": "markdown",
   "id": "1c031fe2",
   "metadata": {},
   "source": [
    "# 133. Clone Graph"
   ]
  },
  {
   "cell_type": "code",
   "execution_count": 2,
   "id": "db3219a9",
   "metadata": {},
   "outputs": [],
   "source": [
    "# Definition for a Node.\n",
    "class Node:\n",
    "    def __init__(self, val = 0, neighbors = None):\n",
    "        self.val = val\n",
    "        self.neighbors = neighbors if neighbors is not None else []"
   ]
  },
  {
   "cell_type": "code",
   "execution_count": 7,
   "id": "c7048912",
   "metadata": {},
   "outputs": [],
   "source": [
    "class Solution:\n",
    "    def cloneGraph(self, node):\n",
    "        # Set up a hash table to track the node value and its corresponding cloned node\n",
    "        visited = {}\n",
    "        \n",
    "        # If the graph is empty, return None\n",
    "        if not node:\n",
    "            return None\n",
    "        \n",
    "        # Use the DFS function within the cloneGraph function, making it easier to manage and encapsulate the code\n",
    "        def dfs(node):\n",
    "            \n",
    "            # Check if the node is included in the hash table\n",
    "            if node in visited:\n",
    "                return visited[node]\n",
    "            \n",
    "            # If the node is not in the hash table, build 'clone' to copy the value and record it in the hash table\n",
    "            clone = Node(node.val)\n",
    "            visited[node] = clone\n",
    "            \n",
    "            # Track the node's neighbors, and use recursion to analyze the value of each child node\n",
    "            for neighbor in node.neighbors:\n",
    "                clone.neighbors.append(dfs(neighbor))\n",
    "            \n",
    "            return clone\n",
    "        \n",
    "        return dfs(node)"
   ]
  },
  {
   "cell_type": "code",
   "execution_count": 8,
   "id": "85e741a0",
   "metadata": {},
   "outputs": [
    {
     "name": "stdout",
     "output_type": "stream",
     "text": [
      "1\n",
      "2\n"
     ]
    }
   ],
   "source": [
    "# Create a graph:\n",
    "#   1 ---- 2\n",
    "#   |      |\n",
    "#   |      |\n",
    "#   4 ---- 3\n",
    "node1 = Node(1)\n",
    "node2 = Node(2)\n",
    "node3 = Node(3)\n",
    "node4 = Node(4)\n",
    "node1.neighbors = [node2, node4]\n",
    "node2.neighbors = [node1, node3]\n",
    "node3.neighbors = [node2, node4]\n",
    "node4.neighbors = [node1, node3]\n",
    "\n",
    "# Create an instance of the Solution class\n",
    "solution = Solution()\n",
    "\n",
    "# Clone the graph\n",
    "clone = solution.cloneGraph(node1)\n",
    "\n",
    "# Print the values of the cloned graph nodes\n",
    "print(clone.val)  # Output: 1\n",
    "print(clone.neighbors[0].val)  # Output: 2"
   ]
  },
  {
   "cell_type": "markdown",
   "id": "b865dc5e",
   "metadata": {},
   "source": [
    "### The reasons for including the depth-first search (DFS) function within the cloneGraph function are as follows:\n",
    "\n",
    "> Encapsulation:\n",
    "    >> By defining the DFS function as an inner function of the cloneGraph function, it allows for the consolidation of related logic in one place, thereby improving code encapsulation and readability. This way, users only need to call the cloneGraph function without needing to understand the internal implementation details.\n",
    "\n",
    "- Scope Access:\n",
    "    Defining the DFS function as an inner function of the cloneGraph function allows it to access the local variables and parameters of cloneGraph. This reduces reliance on global variables and makes the code clearer and more manageable.\n",
    "\n",
    "- Nested Invocation:\n",
    "    Since the DFS function is an inner function of the cloneGraph function, it can directly access the parameters and local variables of cloneGraph without requiring additional parameter passing. This makes the code more concise, eliminating the need for passing additional parameters during external invocation."
   ]
  },
  {
   "cell_type": "code",
   "execution_count": null,
   "id": "ba45c706",
   "metadata": {},
   "outputs": [],
   "source": []
  }
 ],
 "metadata": {
  "kernelspec": {
   "display_name": "Python 3 (ipykernel)",
   "language": "python",
   "name": "python3"
  },
  "language_info": {
   "codemirror_mode": {
    "name": "ipython",
    "version": 3
   },
   "file_extension": ".py",
   "mimetype": "text/x-python",
   "name": "python",
   "nbconvert_exporter": "python",
   "pygments_lexer": "ipython3",
   "version": "3.11.2"
  }
 },
 "nbformat": 4,
 "nbformat_minor": 5
}
