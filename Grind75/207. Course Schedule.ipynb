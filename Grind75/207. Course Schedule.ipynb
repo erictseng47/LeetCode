{
 "cells": [
  {
   "cell_type": "markdown",
   "id": "ca754f37",
   "metadata": {},
   "source": [
    "# 207. Course Schedule"
   ]
  },
  {
   "cell_type": "code",
   "execution_count": 10,
   "id": "ba74a68b",
   "metadata": {},
   "outputs": [],
   "source": [
    "from collections import defaultdict\n",
    "\n",
    "class Solution:\n",
    "    def canFinish(self, numCourses, prerequisites) -> bool:\n",
    "        \n",
    "        # Build a directed graph using adjacency list\n",
    "        graph = {i:[] for i in range(numCourses)}\n",
    "        for crs, pre in prerequisites:\n",
    "            graph[crs].append(pre)\n",
    "            \n",
    "        visited = set()  # Build a set to record the courses being tracked in the current path\n",
    "        \n",
    "        # Define a DFS function to detect cycles\n",
    "        def dfs(crs):\n",
    "            if crs in visited:\n",
    "                return False  # If the course is already in the current path, it means there's a cycle\n",
    "            \n",
    "            if graph[crs] == []:\n",
    "                return True  # If the course has no prerequisites, it's safe to say this course can be completed\n",
    "            \n",
    "            visited.add(crs)  # Add the course to the current path\n",
    "            print(visited)\n",
    "            for pre in graph[crs]:  # Visit all the prerequisites of the current course\n",
    "                if not dfs(pre):  # If any prerequisite course leads to a cycle, return False\n",
    "                    return False\n",
    "                \n",
    "            visited.remove(crs)  # Remove the course from the current path after visiting all its prerequisites\n",
    "            graph[crs] = []  # Clear the prerequisites to mark the course as fully processed\n",
    "            return True\n",
    "        \n",
    "        # Check each course to see if it can be completed\n",
    "        for crs in range(numCourses):\n",
    "            if not dfs(crs):  # If any course leads to a cycle, return False\n",
    "                return False\n",
    "        return True  # If all courses can be completed, return True\n"
   ]
  },
  {
   "cell_type": "code",
   "execution_count": 14,
   "id": "f70cd217",
   "metadata": {},
   "outputs": [
    {
     "name": "stdout",
     "output_type": "stream",
     "text": [
      "{1}\n",
      "{2}\n",
      "{3}\n",
      "True\n"
     ]
    }
   ],
   "source": [
    "numCourses = 4\n",
    "prerequisites = [[1, 0], [2, 0], [3, 1], [3, 2]]\n",
    "\n",
    "solution = Solution()\n",
    "\n",
    "result = solution.canFinish(numCourses, prerequisites)\n",
    "\n",
    "print(result)"
   ]
  },
  {
   "cell_type": "code",
   "execution_count": null,
   "id": "8888dbb4",
   "metadata": {},
   "outputs": [],
   "source": []
  }
 ],
 "metadata": {
  "kernelspec": {
   "display_name": "Python 3 (ipykernel)",
   "language": "python",
   "name": "python3"
  },
  "language_info": {
   "codemirror_mode": {
    "name": "ipython",
    "version": 3
   },
   "file_extension": ".py",
   "mimetype": "text/x-python",
   "name": "python",
   "nbconvert_exporter": "python",
   "pygments_lexer": "ipython3",
   "version": "3.11.2"
  }
 },
 "nbformat": 4,
 "nbformat_minor": 5
}
